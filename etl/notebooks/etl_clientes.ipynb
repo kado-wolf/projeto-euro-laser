{
 "cells": [
  {
   "cell_type": "code",
   "execution_count": null,
   "id": "73747cd8",
   "metadata": {},
   "outputs": [],
   "source": [
    "# pacotes\n",
    "\n",
    "import requests\n",
    "import pandas as pd\n",
    "import json as json\n",
    "import psycopg2\n",
    "from sqlalchemy import create_engine, MetaData\n",
    "from sqlalchemy.dialects.postgresql import insert\n",
    "from urllib.parse import quote_plus\n",
    "from dotenv import load_dotenv\n",
    "import os"
   ]
  },
  {
   "cell_type": "code",
   "execution_count": null,
   "id": "ee5c3ae9",
   "metadata": {},
   "outputs": [],
   "source": [
    "# Caminho para o .env da EUROLASER (Railway)\n",
    "\n",
    "# Depois essa pasta vamos trocar pela pasta que ficará no servidor da EUROLASER\n",
    "dotenv_path = \"URL\"\n",
    "\n",
    "# Carrega as variáveis do arquivo .env, forçando substituição se já houver algo na memória\n",
    "load_dotenv(dotenv_path, override=True)\n",
    "\n",
    "# Recupera variáveis de ambiente\n",
    "host = os.getenv(\"host\")\n",
    "porta = os.getenv(\"porta\")\n",
    "usuario = os.getenv(\"usuario\")\n",
    "senha = quote_plus(os.getenv(\"senha\"))  # Protege caracteres especiais\n",
    "banco = os.getenv(\"database\")\n",
    "\n",
    "# Mostra para confirmação\n",
    "print(\"Conectando em:\", host, porta, usuario, banco)\n",
    "\n",
    "# Cria a engine\n",
    "engine = create_engine(f\"postgresql://{usuario}:{senha}@{host}:{porta}/{banco}\")"
   ]
  },
  {
   "cell_type": "code",
   "execution_count": null,
   "id": "933036db",
   "metadata": {},
   "outputs": [],
   "source": [
    "# Carrega o arquivo com as credenciais\n",
    "\n",
    "with open('CREDENCIAIS') as f:\n",
    "    config = json.load(f)\n",
    "\n",
    "token = config['TOKEN_API']"
   ]
  },
  {
   "cell_type": "code",
   "execution_count": null,
   "id": "db8f6152",
   "metadata": {},
   "outputs": [],
   "source": [
    "# API OP\n",
    "\n",
    "pagina_op = 1\n",
    "todos_dados_op = []\n",
    "\n",
    "# Loop de paginação\n",
    "while True:\n",
    "    url_op = f\"API_OP\"\n",
    "    headers_op = {\n",
    "        \"Content-Type\": \"application/json\",\n",
    "        \"Token\": token\n",
    "    }\n",
    "\n",
    "    response = requests.get(url_op, headers=headers_op)\n",
    "    \n",
    "    if response.status_code == 200:\n",
    "        dados = response.json()\n",
    "        \n",
    "        # Se a resposta vier vazia, terminamos a coleta\n",
    "        if not dados:\n",
    "            break\n",
    "\n",
    "        todos_dados_op.extend(dados)\n",
    "        print(f\"✅ Página {pagina_op} carregada. Total acumulado: {len(todos_dados_op)}\")\n",
    "        pagina_op += 1\n",
    "    else:\n",
    "        print(f\"❌ Erro na página {pagina_op}: {response.status_code} - {response.text}\")\n",
    "        break\n",
    "\n",
    "# Converter em DataFrame\n",
    "df_ops = pd.DataFrame(todos_dados_op)\n",
    "\n",
    "# Visualizar\n",
    "print(\"🔍 Primeiras ordens de produção:\")\n",
    "print(df_ops.head())"
   ]
  },
  {
   "cell_type": "code",
   "execution_count": null,
   "id": "9bb62023",
   "metadata": {},
   "outputs": [],
   "source": [
    "# API PEDIDOS\n",
    "\n",
    "pagina_pedidos = 1\n",
    "todos_dados_pedidos = []\n",
    "limite_paginas = 1000000  \n",
    "\n",
    "while True:\n",
    "    url_pedidos = f\"API/PEDIDOS\"\n",
    "\n",
    "    headers_pedidos = {\n",
    "        \"Content-Type\": \"application/json\",\n",
    "        \"Token\": token\n",
    "    }\n",
    "\n",
    "    response = requests.get(url_pedidos, headers=headers_pedidos)\n",
    "    \n",
    "    if response.status_code == 200:\n",
    "        dados_pedidos = response.json()\n",
    "        \n",
    "        if not dados_pedidos:\n",
    "            break\n",
    "\n",
    "        todos_dados_pedidos.extend(dados_pedidos)\n",
    "        print(f\"✅ Página {pagina_pedidos} carregada. Total acumulado: {len(todos_dados_pedidos)}\")\n",
    "\n",
    "        pagina_pedidos += 1\n",
    "\n",
    "        # Interrompe\n",
    "        if pagina_pedidos > limite_paginas:\n",
    "            print(\"🚧 Limite de páginas atingido (teste)\")\n",
    "            break\n",
    "\n",
    "    else:\n",
    "        print(f\"❌ Erro na página {pagina_pedidos}: {response.status_code} - {response.text}\")\n",
    "        break\n",
    "\n",
    "# Converte em DataFrame\n",
    "df_pedidos = pd.DataFrame(todos_dados_pedidos)\n",
    "print(df_pedidos.head())\n"
   ]
  },
  {
   "cell_type": "code",
   "execution_count": null,
   "id": "63dcd8ca",
   "metadata": {},
   "outputs": [],
   "source": [
    "# Consumindo a API de Clientes\n",
    "\n",
    "pagina = 1\n",
    "todos_dados = []\n",
    "\n",
    "# Loop de paginação\n",
    "while True:\n",
    "    url = f\"API/CLIENTES\"\n",
    "    headers = {\n",
    "        \"Content-Type\": \"application/json\",\n",
    "        \"Token\": token\n",
    "    }\n",
    "\n",
    "    response = requests.get(url, headers=headers)\n",
    "    \n",
    "    if response.status_code == 200:\n",
    "        dados = response.json()\n",
    "        \n",
    "        # Se a resposta vier vazia, terminamos a coleta\n",
    "        if not dados:\n",
    "            break\n",
    "\n",
    "        todos_dados.extend(dados)\n",
    "        print(f\"✅ Página {pagina} carregada. Total acumulado: {len(todos_dados)}\")\n",
    "        pagina += 1\n",
    "    else:\n",
    "        print(f\"❌ Erro na página {pagina}: {response.status_code} - {response.text}\")\n",
    "        break\n",
    "\n",
    "# Converter em DataFrame\n",
    "df_clientes = pd.DataFrame(todos_dados)\n",
    "\n",
    "# Visualizar\n",
    "print(\"🔍 Primeiras ordens de produção:\")\n",
    "print(df_clientes.head())"
   ]
  },
  {
   "cell_type": "code",
   "execution_count": null,
   "id": "10628a41",
   "metadata": {},
   "outputs": [],
   "source": [
    "# verificando registros \n",
    "\n",
    "df_clientes.head()"
   ]
  },
  {
   "cell_type": "code",
   "execution_count": null,
   "id": "4f6e4bab",
   "metadata": {},
   "outputs": [],
   "source": [
    "# seleciona as tabelas importantes\n",
    "\n",
    "df_clientes  = df_clientes [['nome','fantasia','telefone','email','nome_cid','cod_est','ativo','codcli']]\n",
    "df_clientes.head()"
   ]
  },
  {
   "cell_type": "markdown",
   "id": "e71e5fa7",
   "metadata": {},
   "source": [
    "Renomear as colunas que ja existem para nao precisar trocar nas rotas/apis/front etc...\n",
    "\n",
    "1. id\n",
    "2. codigo\n",
    "3. nome\n",
    "4. nomefantasia"
   ]
  },
  {
   "cell_type": "code",
   "execution_count": null,
   "id": "79572b0d",
   "metadata": {},
   "outputs": [],
   "source": [
    "# Rename\n",
    "\n",
    "df_clientes.rename(columns={\n",
    "    'codcli': 'codigo',\n",
    "    'fantasia': 'nomeFantasia'\n",
    "}, inplace=True)"
   ]
  },
  {
   "cell_type": "code",
   "execution_count": null,
   "id": "a8258a04",
   "metadata": {},
   "outputs": [],
   "source": [
    "df_clientes.head()"
   ]
  },
  {
   "cell_type": "markdown",
   "id": "dc5d7c63",
   "metadata": {},
   "source": [
    "Precisamos criar um processo, que verifique se todos os clientes na tabela de ordens de produção estão na tabela de clientes, se houverem clientes que não estão, precisamos inserir antes de salvar "
   ]
  },
  {
   "cell_type": "code",
   "execution_count": null,
   "id": "25a89d83",
   "metadata": {},
   "outputs": [],
   "source": [
    "df_pedidos.head(1)"
   ]
  },
  {
   "cell_type": "code",
   "execution_count": null,
   "id": "d30443b2",
   "metadata": {},
   "outputs": [],
   "source": [
    "# lista de clientes \n",
    "\n",
    "lista_clientes = df_clientes['codigo'].tolist()\n",
    "\n",
    "# Verificando se esses clientes da lista de OP estão no dataframe de OP\n",
    "df_ops ['flagvalidacao'] = df_ops['codcli'].isin(lista_clientes).astype(int)\n",
    "df_pedidos ['flagvalidacao'] = df_pedidos ['codcli'].isin(lista_clientes).astype(int)"
   ]
  },
  {
   "cell_type": "code",
   "execution_count": null,
   "id": "11ef4bb3",
   "metadata": {},
   "outputs": [],
   "source": [
    "# verificando\n",
    "\n",
    "df_ops['flagvalidacao'].value_counts()"
   ]
  },
  {
   "cell_type": "code",
   "execution_count": null,
   "id": "5e295544",
   "metadata": {},
   "outputs": [],
   "source": [
    "# verificando\n",
    "\n",
    "df_pedidos['flagvalidacao'].value_counts()"
   ]
  },
  {
   "cell_type": "code",
   "execution_count": null,
   "id": "6f6f495b",
   "metadata": {},
   "outputs": [],
   "source": [
    "# verificando as ops\n",
    "df_ops_nao_identificados = df_ops.query(\"flagvalidacao == 0\")\n",
    "qtd_ordensnao_identificados = df_ops_nao_identificados ['numero'].nunique()\n",
    "qtd_clientesnao_identificados = df_ops_nao_identificados ['codcli'].nunique()\n",
    "\n",
    "\n",
    "# verificando os pedidos\n",
    "df_pedidos_nao_identificados = df_pedidos.query(\"flagvalidacao == 0\")\n",
    "qtd_pedidosnao_identificados = df_pedidos_nao_identificados ['numero'].nunique()\n",
    "qtd_clientesnao_identificados_pedidos = df_pedidos_nao_identificados ['codcli'].nunique()\n",
    "\n",
    "\n",
    "print(\"Quantidade de ordens com clientes não identificados \", qtd_ordensnao_identificados)\n",
    "print(\"Quantidade de clientes não identificados: \", qtd_clientesnao_identificados, \"\\n\")\n",
    "\n",
    "print(\"Quantidade de Pedidos com clientes não identificados \", qtd_pedidosnao_identificados)\n",
    "print(\"Quantidade de clientes não identificados: \", qtd_clientesnao_identificados_pedidos)"
   ]
  },
  {
   "cell_type": "code",
   "execution_count": null,
   "id": "61c2423d",
   "metadata": {},
   "outputs": [],
   "source": [
    "# criando uma lista, somente com os clientes que nao estao na tabela de clientes\n",
    "\n",
    "lista_clientes_nao_identificados = df_ops_nao_identificados ['codcli'].drop_duplicates().tolist()\n",
    "lista_clientes_nao_identificados_pedidos = df_pedidos_nao_identificados['codcli'].drop_duplicates().tolist()"
   ]
  },
  {
   "cell_type": "code",
   "execution_count": null,
   "id": "f9334cea",
   "metadata": {},
   "outputs": [],
   "source": [
    "# exibindo a lista\n",
    "\n",
    "lista_clientes_nao_identificados"
   ]
  },
  {
   "cell_type": "code",
   "execution_count": null,
   "id": "4d533f13",
   "metadata": {},
   "outputs": [],
   "source": [
    "# exibindo a lista\n",
    "\n",
    "lista_clientes_nao_identificados_pedidos"
   ]
  },
  {
   "cell_type": "code",
   "execution_count": null,
   "id": "abf06a30",
   "metadata": {},
   "outputs": [],
   "source": [
    "# unindo as duas listas\n",
    "\n",
    "lista_clientes_nao_identificados = list(\n",
    "    set(lista_clientes_nao_identificados + lista_clientes_nao_identificados_pedidos)\n",
    ")\n"
   ]
  },
  {
   "cell_type": "code",
   "execution_count": null,
   "id": "4c503a32",
   "metadata": {},
   "outputs": [],
   "source": [
    "df_clientes.head()"
   ]
  },
  {
   "cell_type": "code",
   "execution_count": null,
   "id": "d5d91959",
   "metadata": {},
   "outputs": [],
   "source": [
    "# Pega as colunas do DataFrame original\n",
    "\n",
    "colunas = df_clientes.columns.tolist()\n",
    "\n",
    "# Cria uma lista de dicionários com os novos clientes\n",
    "\n",
    "dados_novos_clientes = []\n",
    "for codcli in lista_clientes_nao_identificados:\n",
    "    cliente_dict = {col: (\"Não Identificado\" if col != \"codigo\" else codcli) for col in colunas}\n",
    "    dados_novos_clientes.append(cliente_dict)\n",
    "\n",
    "# Cria o novo DataFrame com os registros ausentes\n",
    "\n",
    "novos_clientes = pd.DataFrame(dados_novos_clientes)\n",
    "\n",
    "# Garante a mesma ordem de colunas\n",
    "\n",
    "novos_clientes = novos_clientes[df_clientes.columns]\n",
    "\n",
    "# Concatena com o df original\n",
    "\n",
    "df_clientes = pd.concat([df_clientes, novos_clientes], ignore_index=True)\n",
    "\n",
    "print(f\"✅ Clientes adicionados: {len(novos_clientes)}\")"
   ]
  },
  {
   "cell_type": "code",
   "execution_count": null,
   "id": "6c8d2832",
   "metadata": {},
   "outputs": [],
   "source": [
    "# Reflete a estrutura do banco para capturar a tabela já existen\n",
    "metadata = MetaData()\n",
    "metadata.reflect(bind=engine)\n",
    "tabela_cliente = metadata.tables[\"Cliente\"]  # Tabela com nome e capitalização exatos\n",
    "\n",
    "# Converte DataFrame em lista de dicionários\n",
    "dados = df_clientes.to_dict(orient=\"records\")\n",
    "\n",
    "# Cria comando de insert com fallback se houver conflito de PK\n",
    "stmt = insert(tabela_cliente).values(dados)\n",
    "stmt = stmt.on_conflict_do_nothing(index_elements=[\"codigo\"])  # PK = codigo\n",
    "\n",
    "# Executa a operação no banco\n",
    "with engine.begin() as conn:\n",
    "    conn.execute(stmt)\n"
   ]
  },
  {
   "cell_type": "code",
   "execution_count": null,
   "id": "0445d1c5",
   "metadata": {},
   "outputs": [],
   "source": []
  }
 ],
 "metadata": {
  "kernelspec": {
   "display_name": "Python 3",
   "language": "python",
   "name": "python3"
  },
  "language_info": {
   "codemirror_mode": {
    "name": "ipython",
    "version": 3
   },
   "file_extension": ".py",
   "mimetype": "text/x-python",
   "name": "python",
   "nbconvert_exporter": "python",
   "pygments_lexer": "ipython3",
   "version": "3.13.3"
  }
 },
 "nbformat": 4,
 "nbformat_minor": 5
}

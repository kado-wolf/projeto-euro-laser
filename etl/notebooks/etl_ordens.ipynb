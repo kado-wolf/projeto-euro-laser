{
 "cells": [
  {
   "cell_type": "code",
   "execution_count": null,
   "id": "09108918",
   "metadata": {},
   "outputs": [],
   "source": [
    "# pacotes\n",
    "\n",
    "import requests\n",
    "import pandas as pd\n",
    "import json as json\n",
    "import psycopg2\n",
    "from sqlalchemy import create_engine, MetaData\n",
    "from sqlalchemy import MetaData, insert, text\n",
    "from sqlalchemy.dialects.postgresql import insert\n",
    "from urllib.parse import quote_plus\n",
    "from dotenv import load_dotenv\n",
    "import os\n",
    "import re\n",
    "import unicodedata\n"
   ]
  },
  {
   "cell_type": "code",
   "execution_count": null,
   "id": "4886c0b2",
   "metadata": {},
   "outputs": [],
   "source": [
    "# Caminho para o .env \n",
    "dotenv_path = \"URL\"\n",
    "\n",
    "# Carrega as variáveis do arquivo .env, forçando substituição se já houver algo na memória\n",
    "load_dotenv(dotenv_path, override=True)\n",
    "\n",
    "# Recupera variáveis de ambiente\n",
    "host = os.getenv(\"host\")\n",
    "porta = os.getenv(\"porta\")\n",
    "usuario = os.getenv(\"usuario\")\n",
    "senha = quote_plus(os.getenv(\"senha\"))  # Protege caracteres especiais\n",
    "banco = os.getenv(\"database\")\n",
    "\n",
    "# Mostra para confirmação\n",
    "print(\"Conectando em:\", host, porta, usuario, banco)\n",
    "\n",
    "# Cria a engine\n",
    "engine = create_engine(f\"postgresql://{usuario}:{senha}@{host}:{porta}/{banco}\")"
   ]
  },
  {
   "cell_type": "code",
   "execution_count": null,
   "id": "51808c21",
   "metadata": {},
   "outputs": [],
   "source": [
    "# Carrega o arquivo com as credenciais\n",
    "\n",
    "with open('CREDENCIAIS') as f:\n",
    "    config = json.load(f)\n",
    "\n",
    "token = config['TOKEN_API']"
   ]
  },
  {
   "cell_type": "code",
   "execution_count": null,
   "id": "9ad7d508",
   "metadata": {},
   "outputs": [],
   "source": [
    "# API PEDIDOS\n",
    "\n",
    "pagina_pedidos = 1\n",
    "todos_dados_pedidos = []\n",
    "limite_paginas = 1000000  \n",
    "\n",
    "while True:\n",
    "    url_pedidos = f\"API/PEDIDOS\"\n",
    "\n",
    "    headers_pedidos = {\n",
    "        \"Content-Type\": \"application/json\",\n",
    "        \"Token\": token\n",
    "    }\n",
    "\n",
    "    response = requests.get(url_pedidos, headers=headers_pedidos)\n",
    "    \n",
    "    if response.status_code == 200:\n",
    "        dados_pedidos = response.json()\n",
    "        \n",
    "        if not dados_pedidos:\n",
    "            break\n",
    "\n",
    "        todos_dados_pedidos.extend(dados_pedidos)\n",
    "        print(f\"✅ Página {pagina_pedidos} carregada. Total acumulado: {len(todos_dados_pedidos)}\")\n",
    "\n",
    "        pagina_pedidos += 1\n",
    "\n",
    "        # Interrompe\n",
    "        if pagina_pedidos > limite_paginas:\n",
    "            print(\"🚧 Limite de páginas atingido (teste)\")\n",
    "            break\n",
    "\n",
    "    else:\n",
    "        print(f\"❌ Erro na página {pagina_pedidos}: {response.status_code} - {response.text}\")\n",
    "        break\n",
    "\n",
    "# Converte em DataFrame\n",
    "df_pedidos = pd.DataFrame(todos_dados_pedidos)\n",
    "print(df_pedidos.head())"
   ]
  },
  {
   "cell_type": "code",
   "execution_count": null,
   "id": "02b4a8d9",
   "metadata": {},
   "outputs": [],
   "source": [
    "# API OP\n",
    "\n",
    "pagina = 1\n",
    "todos_dados = []\n",
    "\n",
    "# Loop de paginação\n",
    "while True:\n",
    "    url = f\"API/OP\"\n",
    "\n",
    "    headers = {\n",
    "        \"Content-Type\": \"application/json\",\n",
    "        \"Token\": token\n",
    "    }\n",
    "\n",
    "    response = requests.get(url, headers=headers)\n",
    "    \n",
    "    if response.status_code == 200:\n",
    "        dados = response.json()\n",
    "        \n",
    "        # Se a resposta vier vazia, terminamos a coleta\n",
    "        if not dados:\n",
    "            break\n",
    "\n",
    "        todos_dados.extend(dados)\n",
    "        print(f\"✅ Página {pagina} carregada. Total acumulado: {len(todos_dados)}\")\n",
    "        pagina += 1\n",
    "    else:\n",
    "        print(f\"❌ Erro na página {pagina}: {response.status_code} - {response.text}\")\n",
    "        break\n",
    "\n",
    "# Converter em DataFrame\n",
    "df_ops = pd.DataFrame(todos_dados)\n",
    "\n",
    "# Visualizar\n",
    "print(\"🔍 Primeiras ordens de produção:\")\n",
    "print(df_ops.head())"
   ]
  },
  {
   "cell_type": "code",
   "execution_count": null,
   "id": "bc01cd4f",
   "metadata": {},
   "outputs": [],
   "source": [
    "df_ops.head(2)"
   ]
  },
  {
   "cell_type": "code",
   "execution_count": null,
   "id": "bd40280c",
   "metadata": {},
   "outputs": [],
   "source": [
    "# converte a coluna dt_inicio para datetime\n",
    "df_ops['dt_inicio'] = pd.to_datetime(df_ops['dt_inicio'], format=\"%d/%m/%Y\", errors=\"coerce\")\n",
    "\n",
    "# agora ordena pelos mais recentes\n",
    "df_ops.sort_values(by=\"dt_inicio\", ascending=False).head()"
   ]
  },
  {
   "cell_type": "code",
   "execution_count": null,
   "id": "95a419ae",
   "metadata": {},
   "outputs": [],
   "source": [
    "# Quebrando o array dos ITENS \n",
    "\n",
    "# Explodir para transformar listas de dicionários em múltiplas linhas\n",
    "df_explodido = df_ops.explode('itens').reset_index(drop=True)\n",
    "\n",
    "# Normalizar os dicionários (cada chave vira uma coluna)\n",
    "df_itens = pd.json_normalize(df_explodido['itens'])\n",
    "\n",
    "# Concatenar com os dados da OP (sem a coluna original 'itens')\n",
    "df_op_itens = pd.concat([df_explodido.drop(columns=['itens']), df_itens], axis=1)"
   ]
  },
  {
   "cell_type": "code",
   "execution_count": null,
   "id": "ee1b437b",
   "metadata": {},
   "outputs": [],
   "source": [
    "# Funcao para evitar caracteres indesejados\n",
    "\n",
    "def normalizar_texto(texto):\n",
    "    if not isinstance(texto, str):\n",
    "        return \"\"\n",
    "    texto = texto.strip().upper()\n",
    "    texto = unicodedata.normalize('NFKD', texto).encode('ASCII', 'ignore').decode('utf-8')\n",
    "    texto = re.sub(r'[^A-Z0-9]', '', texto)  # mantém apenas letras e números\n",
    "    return texto\n",
    "\n",
    "def limpar_coluna_texto(df, nome_coluna):\n",
    "    df[nome_coluna] = df[nome_coluna].apply(normalizar_texto)\n",
    "    return df"
   ]
  },
  {
   "cell_type": "code",
   "execution_count": null,
   "id": "8e162656",
   "metadata": {},
   "outputs": [],
   "source": [
    "df_op_itens.head()"
   ]
  },
  {
   "cell_type": "code",
   "execution_count": null,
   "id": "c709c235",
   "metadata": {},
   "outputs": [],
   "source": [
    "# Adicionando a coluna de quantidade total \n",
    "\n",
    "df_op_itens ['qtd_total'] = df_op_itens ['qtde'] + df_op_itens ['qtde_b']"
   ]
  },
  {
   "cell_type": "code",
   "execution_count": null,
   "id": "59140505",
   "metadata": {},
   "outputs": [],
   "source": [
    "# Definindo as colunas necessarias\n",
    "\n",
    "df_op_itens = df_op_itens [['numero','codigo','dt_inicio','pedido','codcli','cor','qtde','qtde_b','qtd_total']]"
   ]
  },
  {
   "cell_type": "code",
   "execution_count": null,
   "id": "941aa1e5",
   "metadata": {},
   "outputs": [],
   "source": [
    "df_op_itens.head()"
   ]
  },
  {
   "cell_type": "code",
   "execution_count": null,
   "id": "16c48454",
   "metadata": {},
   "outputs": [],
   "source": [
    "# Cria uma segunda coluna com o codigo do produto e uma segunda coluna com a cor e depois cria a chave na df op\n",
    "\n",
    "df_op_itens ['codigo2'] = df_op_itens ['codigo']\n",
    "df_op_itens ['cor2'] = df_op_itens ['cor']\n",
    "\n",
    "# aplica a funcao\n",
    "df_op_itens = limpar_coluna_texto(df_op_itens, 'codigo2')\n",
    "df_op_itens = limpar_coluna_texto(df_op_itens, 'cor2')\n",
    "\n",
    "# cria a chave\n",
    "df_op_itens ['chave_produto_cor'] = df_op_itens ['codigo2'] + \"-\" + df_op_itens ['cor2']"
   ]
  },
  {
   "cell_type": "code",
   "execution_count": null,
   "id": "0afbd872",
   "metadata": {},
   "outputs": [],
   "source": [
    "df_op_itens.head()"
   ]
  },
  {
   "cell_type": "code",
   "execution_count": null,
   "id": "0b01dc93",
   "metadata": {},
   "outputs": [],
   "source": [
    "# selecionando as colunas necessarias\n",
    "\n",
    "df_op_itens = df_op_itens [['numero','codigo','dt_inicio','pedido','codcli','cor','qtde','qtde_b','qtd_total','chave_produto_cor']]"
   ]
  },
  {
   "cell_type": "code",
   "execution_count": null,
   "id": "7cbd6eb4",
   "metadata": {},
   "outputs": [],
   "source": [
    "# rename\n",
    "\n",
    "df_op_itens.rename(columns={\n",
    "\n",
    "    'numero':'codigoOp',\n",
    "    'codcli':'codigo_cliente', # preciso alterar no banco\n",
    "    'codigo':'codigo_produto', # preciso alterar no banco\n",
    "    'cor':'codigoCor',\n",
    "    'qtd_total':'qtdProduzir',\n",
    "    'dt_inicio':'dataCriacaoOp'\n",
    "    \n",
    "},inplace=True)"
   ]
  },
  {
   "cell_type": "code",
   "execution_count": null,
   "id": "8bc7c00f",
   "metadata": {},
   "outputs": [],
   "source": [
    "# verificando\n",
    "\n",
    "df_op_itens.head()"
   ]
  },
  {
   "cell_type": "code",
   "execution_count": null,
   "id": "07a1bfbd",
   "metadata": {},
   "outputs": [],
   "source": [
    "# verificando\n",
    "\n",
    "df_pedidos [['numero','entrega']].head(2)"
   ]
  },
  {
   "cell_type": "markdown",
   "id": "0ee3275d",
   "metadata": {},
   "source": [
    "Basicamente, vamos fazer um merge dos dados de PEDIDOS para OP. O Objetivo é trazer a data da entrega (prevista) para o dataframe de Ordens de Produção, pra não precisar depender de relacionamentos futuros."
   ]
  },
  {
   "cell_type": "code",
   "execution_count": null,
   "id": "e2586105",
   "metadata": {},
   "outputs": [],
   "source": [
    "# Verificando quantos registros conseguimos preencher (que dão match nas duas tabelas) e quantos registros ficarão com data prevista null.\n",
    "\n",
    "lista_pedidos = df_pedidos['numero'].drop_duplicates().tolist()\n",
    "\n",
    "# copia do df\n",
    "df_op_itens_v2 = df_op_itens\n",
    "\n",
    "# flag\n",
    "df_op_itens_v2['flag_validacao'] = df_op_itens_v2['pedido'].isin(lista_pedidos).astype(int)\n",
    "df_op_itens_v2['flag_validacao'].value_counts()"
   ]
  },
  {
   "cell_type": "code",
   "execution_count": null,
   "id": "644c828e",
   "metadata": {},
   "outputs": [],
   "source": [
    "# Contabilizando os pedidos\n",
    "\n",
    "qtd_pedidos_validacao = df_op_itens_v2.query(\"flag_validacao == 0\").nunique()\n",
    "qtd_pedidos_validacao"
   ]
  },
  {
   "cell_type": "markdown",
   "id": "85abd855",
   "metadata": {},
   "source": [
    "Basicamente os registros com data prevista null ficam em 1% do total da base. Por isso, optamos por adicionar uma data genérica para esses casos pontuais"
   ]
  },
  {
   "cell_type": "code",
   "execution_count": null,
   "id": "dcab4b5e",
   "metadata": {},
   "outputs": [],
   "source": [
    "# realizando o merge\n",
    "\n",
    "df_op_itens = pd.merge(df_op_itens,df_pedidos[['numero','entrega']],how='left',left_on='pedido',right_on='numero')\n",
    "df_op_itens.drop(columns=['numero'],inplace=True)\n",
    "df_op_itens.head()"
   ]
  },
  {
   "cell_type": "code",
   "execution_count": null,
   "id": "67961c54",
   "metadata": {},
   "outputs": [],
   "source": [
    "# trocando o nome da data\n",
    "\n",
    "df_op_itens.rename(columns={'entrega':'dataPrevistaEntrega'},inplace=True)\n",
    "df_op_itens.columns"
   ]
  },
  {
   "cell_type": "code",
   "execution_count": null,
   "id": "5c4997fe",
   "metadata": {},
   "outputs": [],
   "source": [
    "# quantos dados ficaram null ?\n",
    "\n",
    "df_op_itens.isnull().sum()"
   ]
  },
  {
   "cell_type": "code",
   "execution_count": null,
   "id": "ede5deb1",
   "metadata": {},
   "outputs": [],
   "source": [
    "# copiando o df principal\n",
    "df_op_itens_validacao = df_op_itens.copy()\n",
    "\n",
    "# Lista de pedidos válidos\n",
    "lista_pedidos = df_pedidos['numero'].astype(str).tolist() \n",
    "\n",
    "# Garantir que a coluna 'pedido' também seja string para evitar erros de comparação\n",
    "df_op_itens_validacao['pedido'] = df_op_itens_validacao['pedido'].astype(str)\n",
    "\n",
    "#  Criar flag de validação: 1 se existe na lista de pedidos, 0 caso contrário\n",
    "df_op_itens_validacao['validacao'] = df_op_itens_validacao['pedido'].isin(lista_pedidos).astype(int)\n",
    "\n",
    "# Filtrar os que NÃO existem na base de pedidos\n",
    "df_op_itens_nao_encontrados = df_op_itens_validacao.query(\"validacao == 0\")\n"
   ]
  },
  {
   "cell_type": "code",
   "execution_count": null,
   "id": "a4728b75",
   "metadata": {},
   "outputs": [],
   "source": [
    "df_op_itens_nao_encontrados.info()"
   ]
  },
  {
   "cell_type": "code",
   "execution_count": null,
   "id": "a0f4e20b",
   "metadata": {},
   "outputs": [],
   "source": [
    "# Lista de pedidos \n",
    "\n",
    "df_op_itens_teste = df_op_itens\n",
    "df_pedidos_lista = df_pedidos['numero'].tolist()\n",
    "df_op_itens_teste ['validacao'] = df_op_itens_teste['pedido'].isin(df_pedidos_lista).astype(int)\n",
    "df_op_itens_teste ['validacao'].value_counts()"
   ]
  },
  {
   "cell_type": "code",
   "execution_count": null,
   "id": "3a56827d",
   "metadata": {},
   "outputs": [],
   "source": [
    "# df somente com os nao encontrados\n",
    "\n",
    "df_pedidos_nao_encontrados = df_op_itens_teste.query(\"validacao == 0\")\n",
    "qtd_pedidos_nao_encontrados = df_pedidos_nao_encontrados['pedido'].nunique()\n",
    "qtd_pedidos_nao_encontrados"
   ]
  },
  {
   "cell_type": "code",
   "execution_count": null,
   "id": "5c3a4573",
   "metadata": {},
   "outputs": [],
   "source": [
    "# criando uma função pra preencher valores null da coluna entrega\n",
    "\n",
    "def preenchedata(df, coluna, datanova):\n",
    "    df[coluna] = df[coluna].fillna(datanova)\n",
    "    return df\n",
    "\n",
    "df_op_itens = preenchedata(df_op_itens, 'dataPrevistaEntrega', '01/01/1900')"
   ]
  },
  {
   "cell_type": "code",
   "execution_count": null,
   "id": "bebefa4a",
   "metadata": {},
   "outputs": [],
   "source": [
    "df_op_itens.info()"
   ]
  },
  {
   "cell_type": "code",
   "execution_count": null,
   "id": "accc7873",
   "metadata": {},
   "outputs": [],
   "source": [
    "df_op_itens.head()"
   ]
  },
  {
   "cell_type": "code",
   "execution_count": null,
   "id": "74ecf23b",
   "metadata": {},
   "outputs": [],
   "source": [
    "# transformando a coluna para date\n",
    "\n",
    "df_op_itens['dataCriacaoOp'] = pd.to_datetime(df_op_itens['dataCriacaoOp'], dayfirst=True, errors=\"coerce\")\n",
    "df_op_itens['dataPrevistaEntrega'] = pd.to_datetime(df_op_itens['dataPrevistaEntrega'], dayfirst=True, errors=\"coerce\")"
   ]
  },
  {
   "cell_type": "code",
   "execution_count": null,
   "id": "bcb8a5e2",
   "metadata": {},
   "outputs": [],
   "source": [
    "df_op_itens.head()"
   ]
  },
  {
   "cell_type": "code",
   "execution_count": null,
   "id": "e5051171",
   "metadata": {},
   "outputs": [],
   "source": [
    "df_op_itens.sort_values(by='dataCriacaoOp', ascending=False).head()"
   ]
  },
  {
   "cell_type": "code",
   "execution_count": null,
   "id": "9c10032e",
   "metadata": {},
   "outputs": [],
   "source": [
    "df_op_itens.drop(columns=['flag_validacao','validacao'],inplace=True)"
   ]
  },
  {
   "cell_type": "code",
   "execution_count": null,
   "id": "783937ce",
   "metadata": {},
   "outputs": [],
   "source": [
    "qtdteste1 = df_op_itens ['codigoOp'].nunique()\n",
    "qtdteste2 = df_op_itens ['codigoOp'].count()\n",
    "\n",
    "print(qtdteste1)\n",
    "print(qtdteste2)"
   ]
  },
  {
   "cell_type": "code",
   "execution_count": null,
   "id": "bc49240f",
   "metadata": {},
   "outputs": [],
   "source": [
    "df_op_itens_testedate = df_op_itens.query(\"dataCriacaoOp == '2025-08-18'\")\n",
    "df_op_itens_testedate.head()"
   ]
  },
  {
   "cell_type": "code",
   "execution_count": null,
   "id": "1f5b6a36",
   "metadata": {},
   "outputs": [],
   "source": [
    "# salvando \n",
    "\n",
    "metadata = MetaData()\n",
    "metadata.reflect(bind=engine)\n",
    "tabela_op = metadata.tables[\"FatoOrdemProducao\"]\n",
    "\n",
    "# garanta tipo e zeros à esquerda se for o caso\n",
    "df_op_itens[\"codigoOp\"] = df_op_itens[\"codigoOp\"].astype(str)\n",
    "\n",
    "# remove duplicadas no DF\n",
    "df_op_itens = df_op_itens.drop_duplicates(subset=[\"codigoOp\"], keep=\"last\")\n",
    "\n",
    "# troca NaT/NaN por None (NULL)\n",
    "# df_op_itens = df_op_itens.replace({pd.NaT: None, np.nan: None}).where(pd.notnull(df_op_itens), None)\n",
    "\n",
    "dados = df_op_itens.to_dict(orient=\"records\")\n",
    "\n",
    "stmt = insert(tabela_op).values(dados)\n",
    "stmt = stmt.on_conflict_do_nothing(index_elements=[\"codigoOp\"])\n",
    "\n",
    "with engine.begin() as conn:\n",
    "    conn.execute(stmt)"
   ]
  }
 ],
 "metadata": {
  "kernelspec": {
   "display_name": "Python 3",
   "language": "python",
   "name": "python3"
  },
  "language_info": {
   "codemirror_mode": {
    "name": "ipython",
    "version": 3
   },
   "file_extension": ".py",
   "mimetype": "text/x-python",
   "name": "python",
   "nbconvert_exporter": "python",
   "pygments_lexer": "ipython3",
   "version": "3.13.3"
  }
 },
 "nbformat": 4,
 "nbformat_minor": 5
}

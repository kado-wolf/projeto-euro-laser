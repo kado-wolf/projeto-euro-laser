{
 "cells": [
  {
   "cell_type": "code",
   "execution_count": null,
   "id": "c43dc8a7",
   "metadata": {},
   "outputs": [],
   "source": [
    "# pacotes\n",
    "\n",
    "import requests\n",
    "import pandas as pd\n",
    "import json as json\n",
    "import psycopg2\n",
    "from sqlalchemy import create_engine, MetaData\n",
    "from sqlalchemy.dialects.postgresql import insert\n",
    "from urllib.parse import quote_plus\n",
    "from dotenv import load_dotenv\n",
    "import os\n",
    "import unicodedata\n"
   ]
  },
  {
   "cell_type": "code",
   "execution_count": null,
   "id": "85a83675",
   "metadata": {},
   "outputs": [],
   "source": [
    "# Caminho para o .env \n",
    "dotenv_path = \"URL\"\n",
    "\n",
    "# Carrega as variáveis do arquivo .env, forçando substituição se já houver algo na memória\n",
    "load_dotenv(dotenv_path, override=True)\n",
    "\n",
    "# Recupera variáveis de ambiente\n",
    "host = os.getenv(\"host\")\n",
    "porta = os.getenv(\"porta\")\n",
    "usuario = os.getenv(\"usuario\")\n",
    "senha = quote_plus(os.getenv(\"senha\"))  # Protege caracteres especiais\n",
    "banco = os.getenv(\"database\")\n",
    "\n",
    "# Mostra para confirmação\n",
    "print(\"Conectando em:\", host, porta, usuario, banco)\n",
    "\n",
    "# Cria a engine\n",
    "engine = create_engine(f\"postgresql://{usuario}:{senha}@{host}:{porta}/{banco}\")"
   ]
  },
  {
   "cell_type": "code",
   "execution_count": null,
   "id": "beb75cd9",
   "metadata": {},
   "outputs": [],
   "source": [
    "# Carrega o arquivo com as credenciais\n",
    "\n",
    "with open('CREDENCIAIS') as f:\n",
    "    config = json.load(f)\n",
    "\n",
    "token = config['TOKEN_API']"
   ]
  },
  {
   "cell_type": "code",
   "execution_count": null,
   "id": "65411fdc",
   "metadata": {},
   "outputs": [],
   "source": [
    "# API PEDIDOS\n",
    "\n",
    "pagina_pedidos = 1\n",
    "todos_dados_pedidos = []\n",
    "limite_paginas = 1000000  \n",
    "\n",
    "while True:\n",
    "    url_pedidos = f\"API/PEDIDOS\"\n",
    "\n",
    "    headers_pedidos = {\n",
    "        \"Content-Type\": \"application/json\",\n",
    "        \"Token\": token\n",
    "    }\n",
    "\n",
    "    response = requests.get(url_pedidos, headers=headers_pedidos)\n",
    "    \n",
    "    if response.status_code == 200:\n",
    "        dados_pedidos = response.json()\n",
    "        \n",
    "        if not dados_pedidos:\n",
    "            break\n",
    "\n",
    "        todos_dados_pedidos.extend(dados_pedidos)\n",
    "        print(f\"✅ Página {pagina_pedidos} carregada. Total acumulado: {len(todos_dados_pedidos)}\")\n",
    "\n",
    "        pagina_pedidos += 1\n",
    "\n",
    "        # Interrompe\n",
    "        if pagina_pedidos > limite_paginas:\n",
    "            print(\"🚧 Limite de páginas atingido (teste)\")\n",
    "            break\n",
    "\n",
    "    else:\n",
    "        print(f\"❌ Erro na página {pagina_pedidos}: {response.status_code} - {response.text}\")\n",
    "        break\n",
    "\n",
    "# Converte em DataFrame\n",
    "df_pedidos = pd.DataFrame(todos_dados_pedidos)\n",
    "print(df_pedidos.head())\n"
   ]
  },
  {
   "cell_type": "code",
   "execution_count": null,
   "id": "5668b450",
   "metadata": {},
   "outputs": [],
   "source": [
    "df_pedidos.head()"
   ]
  },
  {
   "cell_type": "code",
   "execution_count": null,
   "id": "9519ab90",
   "metadata": {},
   "outputs": [],
   "source": [
    "# Função pra tirar os caracteres especiais das colunas de codigo e cor\n",
    "\n",
    "def normalizar_texto(texto):\n",
    "    if not isinstance(texto, str):\n",
    "        return \"\"\n",
    "    texto = texto.strip().upper()\n",
    "    texto = unicodedata.normalize('NFKD', texto).encode('ASCII', 'ignore').decode('utf-8')\n",
    "    texto = re.sub(r'[^A-Z0-9]', '', texto)  # mantém apenas letras e números\n",
    "    return texto\n",
    "\n",
    "def limpar_coluna_texto(df, nome_coluna):\n",
    "    df[nome_coluna] = df[nome_coluna].apply(normalizar_texto)\n",
    "    return df"
   ]
  },
  {
   "cell_type": "code",
   "execution_count": null,
   "id": "76d94ff0",
   "metadata": {},
   "outputs": [],
   "source": [
    "df_pedidos = df_pedidos[['numero','ped_cli','dt_emissao','codcli','per_desc','vlr_desc','pgto','entrega','preco','valor','faturado','cancelado','valor_total_liq','valor_total_fat','valor_total_pen','valor_total_bruto']]"
   ]
  },
  {
   "cell_type": "code",
   "execution_count": null,
   "id": "0b779ce6",
   "metadata": {},
   "outputs": [],
   "source": [
    "df_pedidos.head()"
   ]
  },
  {
   "cell_type": "code",
   "execution_count": null,
   "id": "84024c6b",
   "metadata": {},
   "outputs": [],
   "source": [
    "df_pedidos['dt_emissao'] = pd.to_datetime(df_pedidos['dt_emissao'], format=\"%d/%m/%Y\", errors='coerce')"
   ]
  },
  {
   "cell_type": "code",
   "execution_count": null,
   "id": "657631c2",
   "metadata": {},
   "outputs": [],
   "source": [
    "#max data\n",
    "\n",
    "data_max = df_pedidos['dt_emissao'].max()\n",
    "print(data_max)"
   ]
  },
  {
   "cell_type": "code",
   "execution_count": null,
   "id": "49f0e641",
   "metadata": {},
   "outputs": [],
   "source": [
    "#teste\n",
    "\n",
    "teste_df = df_pedidos.query(\"dt_emissao == '2025-09-04' \")\n",
    "teste_df.head()"
   ]
  },
  {
   "cell_type": "code",
   "execution_count": null,
   "id": "8d79af6a",
   "metadata": {},
   "outputs": [],
   "source": [
    "# rename\n",
    "\n",
    "df_pedidos.rename(columns={\n",
    "    'per_desc':'perc_desc',\n",
    "    'numero':'codigo_pedido',\n",
    "    'codcli':'codigo_cliente',\n",
    "    'entrega':'dataPrevistaEntrega'\n",
    "},inplace=True)\n",
    "\n",
    "df_pedidos.columns"
   ]
  },
  {
   "cell_type": "code",
   "execution_count": null,
   "id": "fe38697c",
   "metadata": {},
   "outputs": [],
   "source": [
    "# Converte a coluna de data corretamente para datetime\n",
    "df_pedidos['dataPrevistaEntrega'] = pd.to_datetime(df_pedidos['dataPrevistaEntrega'], format=\"%d/%m/%Y\", errors='coerce')\n",
    "\n",
    "# Converte a coluna de data corretamente para datetime\n",
    "df_pedidos['dt_emissao'] = pd.to_datetime(df_pedidos['dt_emissao'], format=\"%d/%m/%Y\", errors='coerce')"
   ]
  },
  {
   "cell_type": "code",
   "execution_count": null,
   "id": "85318748",
   "metadata": {},
   "outputs": [],
   "source": [
    "df_pedidos.head()"
   ]
  },
  {
   "cell_type": "code",
   "execution_count": null,
   "id": "0e710d7a",
   "metadata": {},
   "outputs": [],
   "source": [
    "df_pedidos.drop(columns=['dataPrevistaEntrega'],inplace=True)\n",
    "df_pedidos.columns"
   ]
  },
  {
   "cell_type": "code",
   "execution_count": null,
   "id": "35a7b3f6",
   "metadata": {},
   "outputs": [],
   "source": [
    "# Reflete a estrutura do banco para capturar a tabela já existen\n",
    "metadata = MetaData()\n",
    "metadata.reflect(bind=engine)\n",
    "tabela_produtos = metadata.tables[\"FatoPedidos\"]  # Tabela com nome e capitalização exatos\n",
    "\n",
    "# Converte DataFrame em lista de dicionários\n",
    "dados = df_pedidos.to_dict(orient=\"records\")\n",
    "\n",
    "# Cria comando de insert com fallback se houver conflito de PK\n",
    "stmt = insert(tabela_produtos).values(dados)\n",
    "stmt = stmt.on_conflict_do_nothing(index_elements=[\"codigo_pedido\"])  # PK = codigo\n",
    "\n",
    "# Executa a operação no banco\n",
    "with engine.begin() as conn:\n",
    "    conn.execute(stmt)\n"
   ]
  }
 ],
 "metadata": {
  "kernelspec": {
   "display_name": "Python 3",
   "language": "python",
   "name": "python3"
  },
  "language_info": {
   "codemirror_mode": {
    "name": "ipython",
    "version": 3
   },
   "file_extension": ".py",
   "mimetype": "text/x-python",
   "name": "python",
   "nbconvert_exporter": "python",
   "pygments_lexer": "ipython3",
   "version": "3.13.3"
  }
 },
 "nbformat": 4,
 "nbformat_minor": 5
}

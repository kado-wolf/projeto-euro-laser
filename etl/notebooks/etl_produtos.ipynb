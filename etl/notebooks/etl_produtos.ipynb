{
 "cells": [
  {
   "cell_type": "code",
   "execution_count": null,
   "id": "16c863ef",
   "metadata": {},
   "outputs": [],
   "source": [
    "# pacotes\n",
    "\n",
    "import requests\n",
    "import pandas as pd\n",
    "import json as json\n",
    "import psycopg2\n",
    "from sqlalchemy import create_engine, MetaData\n",
    "from sqlalchemy.dialects.postgresql import insert\n",
    "from urllib.parse import quote_plus\n",
    "from dotenv import load_dotenv\n",
    "import os\n",
    "import numpy as np\n",
    "import unicodedata\n",
    "import re"
   ]
  },
  {
   "cell_type": "code",
   "execution_count": null,
   "id": "0ad1072c",
   "metadata": {},
   "outputs": [],
   "source": [
    "# Caminho para o .env \n",
    "\n",
    "dotenv_path = \"URL\"\n",
    "\n",
    "# Carrega as variáveis do arquivo .env, forçando substituição se já houver algo na memória\n",
    "load_dotenv(dotenv_path, override=True)\n",
    "\n",
    "# Recupera variáveis de ambiente\n",
    "host = os.getenv(\"host\")\n",
    "porta = os.getenv(\"porta\")\n",
    "usuario = os.getenv(\"usuario\")\n",
    "senha = quote_plus(os.getenv(\"senha\"))  # Protege caracteres especiais\n",
    "banco = os.getenv(\"database\")\n",
    "\n",
    "# Mostra para confirmação\n",
    "print(\"Conectando em:\", host, porta, usuario, banco)\n",
    "\n",
    "# Cria a engine\n",
    "engine = create_engine(f\"postgresql://{usuario}:{senha}@{host}:{porta}/{banco}\")"
   ]
  },
  {
   "cell_type": "code",
   "execution_count": null,
   "id": "137c3a04",
   "metadata": {},
   "outputs": [],
   "source": [
    "# Carrega o arquivo com as credencial\n",
    "\n",
    "with open('CREDENCIAIS') as f:\n",
    "    config = json.load(f)\n",
    "\n",
    "token = config['TOKEN_API']"
   ]
  },
  {
   "cell_type": "code",
   "execution_count": null,
   "id": "8e9496e1",
   "metadata": {},
   "outputs": [],
   "source": [
    "# API pra mostrar a lista de produtos\n",
    "\n",
    "pagina = 1\n",
    "todos_dados = []\n",
    "\n",
    "# Loop de paginação\n",
    "while True:\n",
    "    url = f\"API/PRODUTOS\"\n",
    "    headers = {\n",
    "        \"Content-Type\": \"application/json\",\n",
    "        \"Token\": token\n",
    "    }\n",
    "\n",
    "    response = requests.get(url, headers=headers)\n",
    "    \n",
    "    if response.status_code == 200:\n",
    "        dados = response.json()\n",
    "        \n",
    "        # Se a resposta vier vazia, terminamos a coleta\n",
    "        if not dados:\n",
    "            break\n",
    "\n",
    "        todos_dados.extend(dados)\n",
    "        print(f\"✅ Página {pagina} carregada. Total acumulado: {len(todos_dados)}\")\n",
    "        pagina += 1\n",
    "    else:\n",
    "        print(f\"❌ Erro na página {pagina}: {response.status_code} - {response.text}\")\n",
    "        break\n",
    "\n",
    "# Converter em DataFrame\n",
    "df_produtos = pd.DataFrame(todos_dados)\n",
    "\n",
    "# Visualizar\n",
    "print(\"Primeiras ordens de produção:\")\n",
    "print(df_produtos.head())"
   ]
  },
  {
   "cell_type": "code",
   "execution_count": null,
   "id": "63b39710",
   "metadata": {},
   "outputs": [],
   "source": [
    "# API OP\n",
    "\n",
    "pagina_op = 1\n",
    "todos_dados_op = []\n",
    "\n",
    "# Loop de paginação\n",
    "while True:\n",
    "    url_op = f\"API/OP\"\n",
    "    headers_op = {\n",
    "        \"Content-Type\": \"application/json\",\n",
    "        \"Token\": token\n",
    "    }\n",
    "\n",
    "    response_op = requests.get(url_op, headers=headers_op)\n",
    "    \n",
    "    if response_op.status_code == 200:\n",
    "        dados_op = response_op.json()\n",
    "        \n",
    "        # Se a resposta vier vazia, terminamos a coleta\n",
    "        if not dados_op:\n",
    "            break\n",
    "\n",
    "        todos_dados_op.extend(dados_op)\n",
    "        print(f\"✅ Página {pagina_op} carregada. Total acumulado: {len(todos_dados_op)}\")\n",
    "        pagina_op += 1\n",
    "    else:\n",
    "        print(f\"❌ Erro na página {pagina_op}: {response_op.status_code} - {response_op.text}\")\n",
    "        break\n",
    "\n",
    "# Converter em DataFrame\n",
    "df_ops = pd.DataFrame(todos_dados_op)\n",
    "\n",
    "# Visualizar\n",
    "print(\"🔍 Primeiras ordens de produção:\")\n",
    "print(df_ops.head())"
   ]
  },
  {
   "cell_type": "code",
   "execution_count": null,
   "id": "6e97dbde",
   "metadata": {},
   "outputs": [],
   "source": [
    "# visualizando o df de OP\n",
    "\n",
    "df_ops.head()"
   ]
  },
  {
   "attachments": {
    "image.png": {
     "image/png": "[encoded data removed]"
    }
   },
   "cell_type": "markdown",
   "id": "25aac9bb",
   "metadata": {},
   "source": [
    "No retorno da API de OP temos uma coluna com formato de array, por isso no código abaixo fizemos uma transformação pra deixar tudo em formato tabular. Ex:\n",
    "\n",
    "![image.png](attachment:image.png)"
   ]
  },
  {
   "cell_type": "code",
   "execution_count": null,
   "id": "eaa2d6b3",
   "metadata": {},
   "outputs": [],
   "source": [
    "# Quebrando o array dos ITENS \n",
    "\n",
    "# Explodir para transformar listas de dicionários em múltiplas linhas\n",
    "df_explodido = df_ops.explode('itens').reset_index(drop=True)\n",
    "\n",
    "# Normalizar os dicionários (cada chave vira uma coluna)\n",
    "df_itens = pd.json_normalize(df_explodido['itens'])\n",
    "\n",
    "# Concatenar com os dados da OP (sem a coluna original 'itens')\n",
    "df_op_itens = pd.concat([df_explodido.drop(columns=['itens']), df_itens], axis=1)"
   ]
  },
  {
   "cell_type": "markdown",
   "id": "729600ba",
   "metadata": {},
   "source": [
    "Vou criar uma segunda coluna com o codigo do produto e uma segunda coluna com a cor. Com isso, vamos deixar elas sem caracteres especiais e vamos criar uma chave"
   ]
  },
  {
   "cell_type": "code",
   "execution_count": null,
   "id": "5c8db540",
   "metadata": {},
   "outputs": [],
   "source": [
    "df_op_itens.head()"
   ]
  },
  {
   "cell_type": "markdown",
   "id": "26079474",
   "metadata": {},
   "source": [
    "Na coluna de \"cor\" existe um padrão de \"[\" antes e depois do nome, no código abaixo normalizamos isso"
   ]
  },
  {
   "cell_type": "code",
   "execution_count": null,
   "id": "58b50027",
   "metadata": {},
   "outputs": [],
   "source": [
    "# Tirar os [] que estão na coluna de cor\n",
    "\n",
    "# Garantir que a coluna seja string e remover colchetes + transformar em lista\n",
    "df_produtos['cor'] = df_produtos['cor'].astype(str).str.strip('[]').str.split(',')\n",
    "\n",
    "# Explodir a coluna em várias linhas\n",
    "df_produtos = df_produtos.explode('cor')\n",
    "\n",
    "# Limpar espaços e remover caracteres especiais da coluna 'codigoCor'\n",
    "df_produtos['cor'] = df_produtos['cor'].str.strip()\n",
    "df_produtos['cor'] = df_produtos['cor'].str.replace(r'[^a-zA-Z0-9]', '', regex=True)\n",
    "\n",
    "# Visualizar resultado final\n",
    "df_produtos.reset_index(drop=True, inplace=True)\n",
    "display(df_produtos.head(5))"
   ]
  },
  {
   "cell_type": "code",
   "execution_count": null,
   "id": "f87ee838",
   "metadata": {},
   "outputs": [],
   "source": [
    "df_produtos.columns"
   ]
  },
  {
   "cell_type": "code",
   "execution_count": null,
   "id": "e17a4c84",
   "metadata": {},
   "outputs": [],
   "source": [
    "# Função pra tirar os caracteres especiais das colunas de codigo e cor\n",
    "\n",
    "def normalizar_texto(texto):\n",
    "    if not isinstance(texto, str):\n",
    "        return \"\"\n",
    "    texto = texto.strip().upper()\n",
    "    texto = unicodedata.normalize('NFKD', texto).encode('ASCII', 'ignore').decode('utf-8')\n",
    "    texto = re.sub(r'[^A-Z0-9]', '', texto)  # mantém apenas letras e números\n",
    "    return texto\n",
    "\n",
    "def limpar_coluna_texto(df, nome_coluna):\n",
    "    df[nome_coluna] = df[nome_coluna].apply(normalizar_texto)\n",
    "    return df"
   ]
  },
  {
   "cell_type": "code",
   "execution_count": null,
   "id": "37eafd6b",
   "metadata": {},
   "outputs": [],
   "source": [
    "df_produtos.head(1)"
   ]
  },
  {
   "cell_type": "code",
   "execution_count": null,
   "id": "2f37a07c",
   "metadata": {},
   "outputs": [],
   "source": [
    "# Cria uma segunda coluna com o codigo do produto e uma segunda coluna com a cor e depois cria a chave na df produtos\n",
    "\n",
    "df_produtos ['codigo2'] = df_produtos ['codigo']\n",
    "df_produtos ['cor2'] = df_produtos ['cor']\n",
    "\n",
    "# aplica a funcao\n",
    "df_produtos = limpar_coluna_texto(df_produtos, 'codigo2')\n",
    "df_produtos = limpar_coluna_texto(df_produtos, 'cor2')\n",
    "\n",
    "# cria a chave\n",
    "df_produtos ['chave_produto_cor'] = df_produtos ['codigo2'] + \"-\" + df_produtos ['cor2']"
   ]
  },
  {
   "cell_type": "code",
   "execution_count": null,
   "id": "8a7e4d7c",
   "metadata": {},
   "outputs": [],
   "source": [
    "df_produtos.head()"
   ]
  },
  {
   "cell_type": "code",
   "execution_count": null,
   "id": "c8612a8b",
   "metadata": {},
   "outputs": [],
   "source": [
    "# Cria uma segunda coluna com o codigo do produto e uma segunda coluna com a cor e depois cria a chave na df produtos\n",
    "\n",
    "df_op_itens ['codigo2'] = df_op_itens ['codigo']\n",
    "df_op_itens ['cor2'] = df_op_itens ['cor']\n",
    "\n",
    "# aplica a funcao\n",
    "df_op_itens = limpar_coluna_texto(df_op_itens, 'codigo2')\n",
    "df_op_itens = limpar_coluna_texto(df_op_itens, 'cor2')\n",
    "\n",
    "# cria a chave\n",
    "df_op_itens ['chave_produto_cor'] = df_op_itens ['codigo2'] + \"-\" + df_op_itens ['cor2']"
   ]
  },
  {
   "cell_type": "code",
   "execution_count": null,
   "id": "2c55299a",
   "metadata": {},
   "outputs": [],
   "source": [
    "df_op_itens.head()"
   ]
  },
  {
   "cell_type": "code",
   "execution_count": null,
   "id": "7120b8e3",
   "metadata": {},
   "outputs": [],
   "source": [
    "# mantém somente as colunas interessantes para análises posteriores\n",
    "\n",
    "df_produtos = df_produtos [['data_cad','codigo','descricao','unidade','grupo','linha','familia','status','espessura','peso','marca','preco_tabela','custo','cor','chave_produto_cor']]\n",
    "df_produtos.head()"
   ]
  },
  {
   "cell_type": "code",
   "execution_count": null,
   "id": "68511d4e",
   "metadata": {},
   "outputs": [],
   "source": [
    "# rename\n",
    "\n",
    "df_produtos.rename(columns={\n",
    "    'descricao':'nome',\n",
    "    'preco_tabela':'preco',\n",
    "    'cor':'codigoCor'\n",
    "},inplace=True)\n",
    "\n",
    "df_produtos.columns"
   ]
  },
  {
   "cell_type": "code",
   "execution_count": null,
   "id": "b69b6c03",
   "metadata": {},
   "outputs": [],
   "source": [
    "# transforma pra datetime pra nao dar erro na carga\n",
    "\n",
    "df_produtos ['data_cad'] = pd.to_datetime(df_produtos['data_cad'])"
   ]
  },
  {
   "cell_type": "markdown",
   "id": "fa0aebb7",
   "metadata": {},
   "source": [
    "Antes de salvar os dados no banco, vamos precisar fazer uma validação para verificar se todos os produtos que estão na tabela de OP também estão na tabela de PRODUTOS. "
   ]
  },
  {
   "cell_type": "code",
   "execution_count": null,
   "id": "359b632c",
   "metadata": {},
   "outputs": [],
   "source": [
    "# Lista de chaves da tabela de produtos\n",
    "lista_chaves_produtos = df_produtos['chave_produto_cor'].tolist()\n",
    "\n",
    "# Verifica se a chave da OP está presente na tabela de produtos\n",
    "df_op_itens['flag_validacao'] = df_op_itens['chave_produto_cor'].isin(lista_chaves_produtos).astype(int)\n",
    "\n",
    "# Filtra os que não foram encontrados\n",
    "df_produtos_faltantes = df_op_itens.query(\"flag_validacao == 0\")\n",
    "\n",
    "# Lista de chaves e códigos faltantes\n",
    "lista_chaves_faltantes = df_produtos_faltantes['chave_produto_cor'].drop_duplicates().tolist()\n",
    "lista_codigos_faltantes = df_produtos_faltantes['codigo'].drop_duplicates().tolist()"
   ]
  },
  {
   "cell_type": "code",
   "execution_count": null,
   "id": "b26c45a0",
   "metadata": {},
   "outputs": [],
   "source": [
    "lista_chaves_faltantes"
   ]
  },
  {
   "cell_type": "code",
   "execution_count": null,
   "id": "59695522",
   "metadata": {},
   "outputs": [],
   "source": [
    "df_produtos.head()"
   ]
  },
  {
   "cell_type": "code",
   "execution_count": null,
   "id": "f42be544",
   "metadata": {},
   "outputs": [],
   "source": [
    "# Colunas do DataFrame original\n",
    "colunas = df_produtos.columns.tolist()\n",
    "\n",
    "# Colunas por tipo (baseado no banco)\n",
    "colunas_numericas = ['espessura', 'peso', 'preco', 'custo']\n",
    "colunas_data = ['data_cad']\n",
    "colunas_texto = [col for col in colunas if col not in colunas_numericas + colunas_data + ['codigo']]\n",
    "\n",
    "# Construção dos novos produtos\n",
    "dados_novos_produtos = []\n",
    "\n",
    "for codigo, chave in zip(lista_codigos_faltantes, lista_chaves_faltantes):\n",
    "    produto_dict = {}\n",
    "    for col in colunas:\n",
    "        if col == 'codigo':\n",
    "            produto_dict[col] = codigo\n",
    "        elif col == 'chave_produto_cor':\n",
    "            produto_dict[col] = chave\n",
    "        elif col in colunas_numericas:\n",
    "            produto_dict[col] = np.nan\n",
    "        elif col in colunas_data:\n",
    "            produto_dict[col] = pd.NaT\n",
    "        else:\n",
    "            produto_dict[col] = \"Não Identificado\"\n",
    "    dados_novos_produtos.append(produto_dict)\n",
    "\n",
    "\n",
    "# Cria e concatena ao DataFrame original\n",
    "novosprodutos = pd.DataFrame(dados_novos_produtos)\n",
    "df_produtos = pd.concat([df_produtos, novosprodutos[df_produtos.columns]], ignore_index=True)\n",
    "\n",
    "print(f\"✅ Produtos adicionados: {len(novosprodutos)}\")"
   ]
  },
  {
   "cell_type": "code",
   "execution_count": null,
   "id": "746cb558",
   "metadata": {},
   "outputs": [],
   "source": [
    "df_produtos.head()"
   ]
  },
  {
   "cell_type": "code",
   "execution_count": null,
   "id": "79698aa7",
   "metadata": {},
   "outputs": [],
   "source": [
    "df_produtos.dtypes"
   ]
  },
  {
   "cell_type": "code",
   "execution_count": null,
   "id": "bdc049bf",
   "metadata": {},
   "outputs": [],
   "source": [
    "# Reflete a estrutura do banco para capturar a tabela já existente\n",
    "metadata = MetaData()\n",
    "metadata.reflect(bind=engine)\n",
    "tabela_produtos = metadata.tables[\"Produto\"]\n",
    "\n",
    "# Remove duplicatas pela chave primária para evitar erro de UNIQUE\n",
    "df_produtos = df_produtos.drop_duplicates(subset=[\"chave_produto_cor\"])\n",
    "\n",
    "# Converte todos os valores nulos para None\n",
    "df_produtos = df_produtos.replace({pd.NaT: None, np.nan: None}).where(pd.notnull(df_produtos), None)\n",
    "\n",
    "# Converte DataFrame para lista de dicionários\n",
    "dados = df_produtos.to_dict(orient=\"records\")\n",
    "\n",
    "# Cria comando de insert com tratamento de conflito (modo incremental)\n",
    "stmt = insert(tabela_produtos).values(dados)\n",
    "stmt = stmt.on_conflict_do_nothing(index_elements=[\"chave_produto_cor\"])\n",
    "\n",
    "# Executa apenas inserção incremental (sem apagar dados existentes)\n",
    "with engine.begin() as conn:\n",
    "    conn.execute(stmt)"
   ]
  }
 ],
 "metadata": {
  "kernelspec": {
   "display_name": "Python 3",
   "language": "python",
   "name": "python3"
  },
  "language_info": {
   "codemirror_mode": {
    "name": "ipython",
    "version": 3
   },
   "file_extension": ".py",
   "mimetype": "text/x-python",
   "name": "python",
   "nbconvert_exporter": "python",
   "pygments_lexer": "ipython3",
   "version": "3.13.3"
  }
 },
 "nbformat": 4,
 "nbformat_minor": 5
}
